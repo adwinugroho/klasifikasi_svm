{
  "nbformat": 4,
  "nbformat_minor": 0,
  "metadata": {
    "colab": {
      "name": "Adwin_Nugroho_S-MID-TEST_Klasifikasi.ipynb",
      "provenance": [],
      "toc_visible": true
    },
    "kernelspec": {
      "name": "python3",
      "display_name": "Python 3"
    }
  },
  "cells": [
    {
      "cell_type": "markdown",
      "metadata": {
        "id": "Vu47RFveBVes",
        "colab_type": "text"
      },
      "source": [
        "# MID TEST FGA-MACHINE LEARNING UMM\n",
        "Disini saya akan mengimplementasikan salah satu metode klasifikasi dari dataset iris, data tersebut dapat anda download disini: https://tinyurl.com/fga-iris "
      ]
    },
    {
      "cell_type": "markdown",
      "metadata": {
        "id": "403CPbcKBjif",
        "colab_type": "text"
      },
      "source": [
        "**Oleh**\n",
        "Adwin Nugruho S"
      ]
    },
    {
      "cell_type": "code",
      "metadata": {
        "id": "mU7cq8PoBTTn",
        "colab_type": "code",
        "colab": {}
      },
      "source": [
        "#import semua library yang akan digunakan\n",
        "import itertools\n",
        "import numpy as np\n",
        "import matplotlib.pyplot as plt\n",
        "import pandas as pd\n",
        "import matplotlib.ticker as ticker\n",
        "import scipy.optimize as opt\n",
        "import pylab as pl\n",
        "from sklearn import preprocessing\n",
        "from matplotlib.ticker import NullFormatter\n",
        "from sklearn.model_selection import train_test_split"
      ],
      "execution_count": 0,
      "outputs": []
    },
    {
      "cell_type": "code",
      "metadata": {
        "id": "YOTrzZ37_kKk",
        "colab_type": "code",
        "colab": {
          "base_uri": "https://localhost:8080/",
          "height": 394
        },
        "outputId": "41fbb219-39a7-4cc4-9833-08b3dcf16bf4"
      },
      "source": [
        "#download dataset yang akan diklasifikasi dengan perintah dibawah\n",
        "!wget -O iris.csv https://tinyurl.com/fga-iris #iris.csv adalah nama file yang akan tersimpan"
      ],
      "execution_count": 4,
      "outputs": [
        {
          "output_type": "stream",
          "text": [
            "--2019-10-18 13:29:01--  https://tinyurl.com/fga-iris\n",
            "Resolving tinyurl.com (tinyurl.com)... 104.20.219.42, 104.20.218.42, 2606:4700:10::6814:da2a, ...\n",
            "Connecting to tinyurl.com (tinyurl.com)|104.20.219.42|:443... connected.\n",
            "HTTP request sent, awaiting response... 301 Moved Permanently\n",
            "Location: https://datahub.io/machine-learning/iris/r/iris.csv [following]\n",
            "--2019-10-18 13:29:01--  https://datahub.io/machine-learning/iris/r/iris.csv\n",
            "Resolving datahub.io (datahub.io)... 104.24.112.103, 104.24.113.103, 2606:4700:30::6818:7167, ...\n",
            "Connecting to datahub.io (datahub.io)|104.24.112.103|:443... connected.\n",
            "HTTP request sent, awaiting response... 302 Found\n",
            "Location: https://pkgstore.datahub.io/machine-learning/iris/iris_csv/data/8bce8766530bf404228ea3fc026dfee3/iris_csv.csv [following]\n",
            "--2019-10-18 13:29:01--  https://pkgstore.datahub.io/machine-learning/iris/iris_csv/data/8bce8766530bf404228ea3fc026dfee3/iris_csv.csv\n",
            "Resolving pkgstore.datahub.io (pkgstore.datahub.io)... 104.24.112.103, 104.24.113.103, 2606:4700:30::6818:7067, ...\n",
            "Connecting to pkgstore.datahub.io (pkgstore.datahub.io)|104.24.112.103|:443... connected.\n",
            "HTTP request sent, awaiting response... 200 OK\n",
            "Length: 4753 (4.6K) [text/csv]\n",
            "Saving to: ‘iris.csv’\n",
            "\n",
            "\riris.csv              0%[                    ]       0  --.-KB/s               \riris.csv            100%[===================>]   4.64K  --.-KB/s    in 0s      \n",
            "\n",
            "2019-10-18 13:29:01 (71.5 MB/s) - ‘iris.csv’ saved [4753/4753]\n",
            "\n"
          ],
          "name": "stdout"
        }
      ]
    },
    {
      "cell_type": "code",
      "metadata": {
        "id": "qDZttZMFDZzC",
        "colab_type": "code",
        "colab": {}
      },
      "source": [
        "#panggil dataset yang telah di download, disini saya menginisialisasi dengan nama iris.csv\n",
        "dataset_iris = pd.read_csv('/content/iris.csv')"
      ],
      "execution_count": 0,
      "outputs": []
    },
    {
      "cell_type": "code",
      "metadata": {
        "id": "rV3_UaO9EUQh",
        "colab_type": "code",
        "colab": {
          "base_uri": "https://localhost:8080/",
          "height": 204
        },
        "outputId": "7e938b87-4747-40a3-a322-7ac571fc42f0"
      },
      "source": [
        "#lihat data dengan perintah berikut\n",
        "dataset_iris.head()"
      ],
      "execution_count": 6,
      "outputs": [
        {
          "output_type": "execute_result",
          "data": {
            "text/html": [
              "<div>\n",
              "<style scoped>\n",
              "    .dataframe tbody tr th:only-of-type {\n",
              "        vertical-align: middle;\n",
              "    }\n",
              "\n",
              "    .dataframe tbody tr th {\n",
              "        vertical-align: top;\n",
              "    }\n",
              "\n",
              "    .dataframe thead th {\n",
              "        text-align: right;\n",
              "    }\n",
              "</style>\n",
              "<table border=\"1\" class=\"dataframe\">\n",
              "  <thead>\n",
              "    <tr style=\"text-align: right;\">\n",
              "      <th></th>\n",
              "      <th>sepallength</th>\n",
              "      <th>sepalwidth</th>\n",
              "      <th>petallength</th>\n",
              "      <th>petalwidth</th>\n",
              "      <th>class</th>\n",
              "    </tr>\n",
              "  </thead>\n",
              "  <tbody>\n",
              "    <tr>\n",
              "      <th>0</th>\n",
              "      <td>5.1</td>\n",
              "      <td>3.5</td>\n",
              "      <td>1.4</td>\n",
              "      <td>0.2</td>\n",
              "      <td>Iris-setosa</td>\n",
              "    </tr>\n",
              "    <tr>\n",
              "      <th>1</th>\n",
              "      <td>4.9</td>\n",
              "      <td>3.0</td>\n",
              "      <td>1.4</td>\n",
              "      <td>0.2</td>\n",
              "      <td>Iris-setosa</td>\n",
              "    </tr>\n",
              "    <tr>\n",
              "      <th>2</th>\n",
              "      <td>4.7</td>\n",
              "      <td>3.2</td>\n",
              "      <td>1.3</td>\n",
              "      <td>0.2</td>\n",
              "      <td>Iris-setosa</td>\n",
              "    </tr>\n",
              "    <tr>\n",
              "      <th>3</th>\n",
              "      <td>4.6</td>\n",
              "      <td>3.1</td>\n",
              "      <td>1.5</td>\n",
              "      <td>0.2</td>\n",
              "      <td>Iris-setosa</td>\n",
              "    </tr>\n",
              "    <tr>\n",
              "      <th>4</th>\n",
              "      <td>5.0</td>\n",
              "      <td>3.6</td>\n",
              "      <td>1.4</td>\n",
              "      <td>0.2</td>\n",
              "      <td>Iris-setosa</td>\n",
              "    </tr>\n",
              "  </tbody>\n",
              "</table>\n",
              "</div>"
            ],
            "text/plain": [
              "   sepallength  sepalwidth  petallength  petalwidth        class\n",
              "0          5.1         3.5          1.4         0.2  Iris-setosa\n",
              "1          4.9         3.0          1.4         0.2  Iris-setosa\n",
              "2          4.7         3.2          1.3         0.2  Iris-setosa\n",
              "3          4.6         3.1          1.5         0.2  Iris-setosa\n",
              "4          5.0         3.6          1.4         0.2  Iris-setosa"
            ]
          },
          "metadata": {
            "tags": []
          },
          "execution_count": 6
        }
      ]
    },
    {
      "cell_type": "code",
      "metadata": {
        "id": "H5joijWgEaj8",
        "colab_type": "code",
        "colab": {
          "base_uri": "https://localhost:8080/",
          "height": 187
        },
        "outputId": "031f4086-4370-46e4-800a-a946b8d69b0e"
      },
      "source": [
        "#lihat info data dengan detail dengan perintah berikut\n",
        "dataset_iris.info()"
      ],
      "execution_count": 7,
      "outputs": [
        {
          "output_type": "stream",
          "text": [
            "<class 'pandas.core.frame.DataFrame'>\n",
            "RangeIndex: 150 entries, 0 to 149\n",
            "Data columns (total 5 columns):\n",
            "sepallength    150 non-null float64\n",
            "sepalwidth     150 non-null float64\n",
            "petallength    150 non-null float64\n",
            "petalwidth     150 non-null float64\n",
            "class          150 non-null object\n",
            "dtypes: float64(4), object(1)\n",
            "memory usage: 5.9+ KB\n"
          ],
          "name": "stdout"
        }
      ]
    },
    {
      "cell_type": "markdown",
      "metadata": {
        "id": "wcBAtkqhE-R6",
        "colab_type": "text"
      },
      "source": [
        "Dari data diatas dapat dilihat terdapat 150 entri data dengan total 5 kolom serta tipe data float dan 1 bertipe data object"
      ]
    },
    {
      "cell_type": "code",
      "metadata": {
        "id": "ga4h4v6aE5OE",
        "colab_type": "code",
        "colab": {
          "base_uri": "https://localhost:8080/",
          "height": 297
        },
        "outputId": "8a9b7710-7b16-47e8-d03c-acff342d8548"
      },
      "source": [
        "#deskripsikan data untuk melihat informasi seperti berapa rata-ratanya dengan perintah\n",
        "dataset_iris.describe()"
      ],
      "execution_count": 8,
      "outputs": [
        {
          "output_type": "execute_result",
          "data": {
            "text/html": [
              "<div>\n",
              "<style scoped>\n",
              "    .dataframe tbody tr th:only-of-type {\n",
              "        vertical-align: middle;\n",
              "    }\n",
              "\n",
              "    .dataframe tbody tr th {\n",
              "        vertical-align: top;\n",
              "    }\n",
              "\n",
              "    .dataframe thead th {\n",
              "        text-align: right;\n",
              "    }\n",
              "</style>\n",
              "<table border=\"1\" class=\"dataframe\">\n",
              "  <thead>\n",
              "    <tr style=\"text-align: right;\">\n",
              "      <th></th>\n",
              "      <th>sepallength</th>\n",
              "      <th>sepalwidth</th>\n",
              "      <th>petallength</th>\n",
              "      <th>petalwidth</th>\n",
              "    </tr>\n",
              "  </thead>\n",
              "  <tbody>\n",
              "    <tr>\n",
              "      <th>count</th>\n",
              "      <td>150.000000</td>\n",
              "      <td>150.000000</td>\n",
              "      <td>150.000000</td>\n",
              "      <td>150.000000</td>\n",
              "    </tr>\n",
              "    <tr>\n",
              "      <th>mean</th>\n",
              "      <td>5.843333</td>\n",
              "      <td>3.054000</td>\n",
              "      <td>3.758667</td>\n",
              "      <td>1.198667</td>\n",
              "    </tr>\n",
              "    <tr>\n",
              "      <th>std</th>\n",
              "      <td>0.828066</td>\n",
              "      <td>0.433594</td>\n",
              "      <td>1.764420</td>\n",
              "      <td>0.763161</td>\n",
              "    </tr>\n",
              "    <tr>\n",
              "      <th>min</th>\n",
              "      <td>4.300000</td>\n",
              "      <td>2.000000</td>\n",
              "      <td>1.000000</td>\n",
              "      <td>0.100000</td>\n",
              "    </tr>\n",
              "    <tr>\n",
              "      <th>25%</th>\n",
              "      <td>5.100000</td>\n",
              "      <td>2.800000</td>\n",
              "      <td>1.600000</td>\n",
              "      <td>0.300000</td>\n",
              "    </tr>\n",
              "    <tr>\n",
              "      <th>50%</th>\n",
              "      <td>5.800000</td>\n",
              "      <td>3.000000</td>\n",
              "      <td>4.350000</td>\n",
              "      <td>1.300000</td>\n",
              "    </tr>\n",
              "    <tr>\n",
              "      <th>75%</th>\n",
              "      <td>6.400000</td>\n",
              "      <td>3.300000</td>\n",
              "      <td>5.100000</td>\n",
              "      <td>1.800000</td>\n",
              "    </tr>\n",
              "    <tr>\n",
              "      <th>max</th>\n",
              "      <td>7.900000</td>\n",
              "      <td>4.400000</td>\n",
              "      <td>6.900000</td>\n",
              "      <td>2.500000</td>\n",
              "    </tr>\n",
              "  </tbody>\n",
              "</table>\n",
              "</div>"
            ],
            "text/plain": [
              "       sepallength  sepalwidth  petallength  petalwidth\n",
              "count   150.000000  150.000000   150.000000  150.000000\n",
              "mean      5.843333    3.054000     3.758667    1.198667\n",
              "std       0.828066    0.433594     1.764420    0.763161\n",
              "min       4.300000    2.000000     1.000000    0.100000\n",
              "25%       5.100000    2.800000     1.600000    0.300000\n",
              "50%       5.800000    3.000000     4.350000    1.300000\n",
              "75%       6.400000    3.300000     5.100000    1.800000\n",
              "max       7.900000    4.400000     6.900000    2.500000"
            ]
          },
          "metadata": {
            "tags": []
          },
          "execution_count": 8
        }
      ]
    },
    {
      "cell_type": "code",
      "metadata": {
        "id": "nQzn0k14JpBF",
        "colab_type": "code",
        "colab": {
          "base_uri": "https://localhost:8080/",
          "height": 102
        },
        "outputId": "53ccfac5-95ce-4259-f364-1196ee334fd0"
      },
      "source": [
        "dataset_iris[['petallength','sepallength','sepalwidth','petalwidth']].mean()"
      ],
      "execution_count": 18,
      "outputs": [
        {
          "output_type": "execute_result",
          "data": {
            "text/plain": [
              "petallength    3.758667\n",
              "sepallength    5.843333\n",
              "sepalwidth     3.054000\n",
              "petalwidth     1.198667\n",
              "dtype: float64"
            ]
          },
          "metadata": {
            "tags": []
          },
          "execution_count": 18
        }
      ]
    },
    {
      "cell_type": "markdown",
      "metadata": {
        "id": "dCznlCysFkR7",
        "colab_type": "text"
      },
      "source": [
        "# 1. Visualisasi data"
      ]
    },
    {
      "cell_type": "code",
      "metadata": {
        "id": "DBez1qD4FbEq",
        "colab_type": "code",
        "colab": {
          "base_uri": "https://localhost:8080/",
          "height": 295
        },
        "outputId": "8f5317d9-00e7-463a-94f2-bcf1b2db0a21"
      },
      "source": [
        "rata_iris = dataset_iris[['petallength','sepallength','sepalwidth','petalwidth']].mean()\n",
        "rata_iris.plot()\n",
        "plt.xlabel(\"Kategori bunga iris\")\n",
        "plt.ylabel(\"Jumlah rata-rata\")\n",
        "plt.title(\"Jumlah rata-rata panjang dan lebar sepal dan kelopak bunga iris\")\n",
        "plt.grid()\n",
        "plt.show()"
      ],
      "execution_count": 22,
      "outputs": [
        {
          "output_type": "display_data",
          "data": {
            "image/png": "[encoded data removed]",
            "text/plain": [
              "<Figure size 432x288 with 1 Axes>"
            ]
          },
          "metadata": {
            "tags": []
          }
        }
      ]
    },
    {
      "cell_type": "markdown",
      "metadata": {
        "id": "pVFiWYr3MgTl",
        "colab_type": "text"
      },
      "source": [
        "# 2. Pembagian data"
      ]
    },
    {
      "cell_type": "code",
      "metadata": {
        "id": "LF_uUYVhIqmR",
        "colab_type": "code",
        "colab": {
          "base_uri": "https://localhost:8080/",
          "height": 102
        },
        "outputId": "819b8916-c21d-4c25-f088-6ee842e07905"
      },
      "source": [
        "#x untuk angkanya\n",
        "x = dataset_iris[['petallength','sepallength','sepalwidth','petalwidth']].values\n",
        "x[0:5]"
      ],
      "execution_count": 23,
      "outputs": [
        {
          "output_type": "execute_result",
          "data": {
            "text/plain": [
              "array([[1.4, 5.1, 3.5, 0.2],\n",
              "       [1.4, 4.9, 3. , 0.2],\n",
              "       [1.3, 4.7, 3.2, 0.2],\n",
              "       [1.5, 4.6, 3.1, 0.2],\n",
              "       [1.4, 5. , 3.6, 0.2]])"
            ]
          },
          "metadata": {
            "tags": []
          },
          "execution_count": 23
        }
      ]
    },
    {
      "cell_type": "code",
      "metadata": {
        "id": "1uZqeqYKNCI7",
        "colab_type": "code",
        "colab": {
          "base_uri": "https://localhost:8080/",
          "height": 88
        },
        "outputId": "75ba7411-a1ec-4539-ad78-a6851b5fc62a"
      },
      "source": [
        "#y untuk pengkategoriannya berdasarkan kelasnya dan ubah y ke numeric\n",
        "y = dataset_iris[['class']]\n",
        "kategori = preprocessing.LabelEncoder()\n",
        "kategori.fit([\"Iris-setosa\",\"Iris-versicolor\",\"Iris-virginica\"])\n",
        "#0 untuk kategori setosa\n",
        "#1 untuk kategori versicolor\n",
        "#2 untuk kategori virginica\n",
        "y = kategori.transform(y)\n",
        "y[0:10]"
      ],
      "execution_count": 33,
      "outputs": [
        {
          "output_type": "stream",
          "text": [
            "/usr/local/lib/python3.6/dist-packages/sklearn/preprocessing/label.py:252: DataConversionWarning: A column-vector y was passed when a 1d array was expected. Please change the shape of y to (n_samples, ), for example using ravel().\n",
            "  y = column_or_1d(y, warn=True)\n"
          ],
          "name": "stderr"
        },
        {
          "output_type": "execute_result",
          "data": {
            "text/plain": [
              "array([0, 0, 0, 0, 0, 0, 0, 0, 0, 0])"
            ]
          },
          "metadata": {
            "tags": []
          },
          "execution_count": 33
        }
      ]
    },
    {
      "cell_type": "code",
      "metadata": {
        "id": "ZIQ68M0hNVbh",
        "colab_type": "code",
        "colab": {
          "base_uri": "https://localhost:8080/",
          "height": 1000
        },
        "outputId": "3efacdb6-bba4-43c2-f0e5-82a1e9ac2353"
      },
      "source": [
        "#sebelum dijadikan training dan test x di normalisasi\n",
        "normx = preprocessing.StandardScaler().fit(x).transform(x.astype(float))\n",
        "print(normx)"
      ],
      "execution_count": 34,
      "outputs": [
        {
          "output_type": "stream",
          "text": [
            "[[-1.34127240e+00 -9.00681170e-01  1.03205722e+00 -1.31297673e+00]\n",
            " [-1.34127240e+00 -1.14301691e+00 -1.24957601e-01 -1.31297673e+00]\n",
            " [-1.39813811e+00 -1.38535265e+00  3.37848329e-01 -1.31297673e+00]\n",
            " [-1.28440670e+00 -1.50652052e+00  1.06445364e-01 -1.31297673e+00]\n",
            " [-1.34127240e+00 -1.02184904e+00  1.26346019e+00 -1.31297673e+00]\n",
            " [-1.17067529e+00 -5.37177559e-01  1.95766909e+00 -1.05003079e+00]\n",
            " [-1.34127240e+00 -1.50652052e+00  8.00654259e-01 -1.18150376e+00]\n",
            " [-1.28440670e+00 -1.02184904e+00  8.00654259e-01 -1.31297673e+00]\n",
            " [-1.34127240e+00 -1.74885626e+00 -3.56360566e-01 -1.31297673e+00]\n",
            " [-1.28440670e+00 -1.14301691e+00  1.06445364e-01 -1.44444970e+00]\n",
            " [-1.28440670e+00 -5.37177559e-01  1.49486315e+00 -1.31297673e+00]\n",
            " [-1.22754100e+00 -1.26418478e+00  8.00654259e-01 -1.31297673e+00]\n",
            " [-1.34127240e+00 -1.26418478e+00 -1.24957601e-01 -1.44444970e+00]\n",
            " [-1.51186952e+00 -1.87002413e+00 -1.24957601e-01 -1.44444970e+00]\n",
            " [-1.45500381e+00 -5.25060772e-02  2.18907205e+00 -1.31297673e+00]\n",
            " [-1.28440670e+00 -1.73673948e-01  3.11468391e+00 -1.05003079e+00]\n",
            " [-1.39813811e+00 -5.37177559e-01  1.95766909e+00 -1.05003079e+00]\n",
            " [-1.34127240e+00 -9.00681170e-01  1.03205722e+00 -1.18150376e+00]\n",
            " [-1.17067529e+00 -1.73673948e-01  1.72626612e+00 -1.18150376e+00]\n",
            " [-1.28440670e+00 -9.00681170e-01  1.72626612e+00 -1.18150376e+00]\n",
            " [-1.17067529e+00 -5.37177559e-01  8.00654259e-01 -1.31297673e+00]\n",
            " [-1.28440670e+00 -9.00681170e-01  1.49486315e+00 -1.05003079e+00]\n",
            " [-1.56873522e+00 -1.50652052e+00  1.26346019e+00 -1.31297673e+00]\n",
            " [-1.17067529e+00 -9.00681170e-01  5.69251294e-01 -9.18557817e-01]\n",
            " [-1.05694388e+00 -1.26418478e+00  8.00654259e-01 -1.31297673e+00]\n",
            " [-1.22754100e+00 -1.02184904e+00 -1.24957601e-01 -1.31297673e+00]\n",
            " [-1.22754100e+00 -1.02184904e+00  8.00654259e-01 -1.05003079e+00]\n",
            " [-1.28440670e+00 -7.79513300e-01  1.03205722e+00 -1.31297673e+00]\n",
            " [-1.34127240e+00 -7.79513300e-01  8.00654259e-01 -1.31297673e+00]\n",
            " [-1.22754100e+00 -1.38535265e+00  3.37848329e-01 -1.31297673e+00]\n",
            " [-1.22754100e+00 -1.26418478e+00  1.06445364e-01 -1.31297673e+00]\n",
            " [-1.28440670e+00 -5.37177559e-01  8.00654259e-01 -1.05003079e+00]\n",
            " [-1.28440670e+00 -7.79513300e-01  2.42047502e+00 -1.44444970e+00]\n",
            " [-1.34127240e+00 -4.16009689e-01  2.65187798e+00 -1.31297673e+00]\n",
            " [-1.28440670e+00 -1.14301691e+00  1.06445364e-01 -1.44444970e+00]\n",
            " [-1.45500381e+00 -1.02184904e+00  3.37848329e-01 -1.31297673e+00]\n",
            " [-1.39813811e+00 -4.16009689e-01  1.03205722e+00 -1.31297673e+00]\n",
            " [-1.28440670e+00 -1.14301691e+00  1.06445364e-01 -1.44444970e+00]\n",
            " [-1.39813811e+00 -1.74885626e+00 -1.24957601e-01 -1.31297673e+00]\n",
            " [-1.28440670e+00 -9.00681170e-01  8.00654259e-01 -1.31297673e+00]\n",
            " [-1.39813811e+00 -1.02184904e+00  1.03205722e+00 -1.18150376e+00]\n",
            " [-1.39813811e+00 -1.62768839e+00 -1.74477836e+00 -1.18150376e+00]\n",
            " [-1.39813811e+00 -1.74885626e+00  3.37848329e-01 -1.31297673e+00]\n",
            " [-1.22754100e+00 -1.02184904e+00  1.03205722e+00 -7.87084847e-01]\n",
            " [-1.05694388e+00 -9.00681170e-01  1.72626612e+00 -1.05003079e+00]\n",
            " [-1.34127240e+00 -1.26418478e+00 -1.24957601e-01 -1.18150376e+00]\n",
            " [-1.22754100e+00 -9.00681170e-01  1.72626612e+00 -1.31297673e+00]\n",
            " [-1.34127240e+00 -1.50652052e+00  3.37848329e-01 -1.31297673e+00]\n",
            " [-1.28440670e+00 -6.58345429e-01  1.49486315e+00 -1.31297673e+00]\n",
            " [-1.34127240e+00 -1.02184904e+00  5.69251294e-01 -1.31297673e+00]\n",
            " [ 5.35295827e-01  1.40150837e+00  3.37848329e-01  2.64698913e-01]\n",
            " [ 4.21564419e-01  6.74501145e-01  3.37848329e-01  3.96171883e-01]\n",
            " [ 6.49027235e-01  1.28034050e+00  1.06445364e-01  3.96171883e-01]\n",
            " [ 1.37235899e-01 -4.16009689e-01 -1.74477836e+00  1.33225943e-01]\n",
            " [ 4.78430123e-01  7.95669016e-01 -5.87763531e-01  3.96171883e-01]\n",
            " [ 4.21564419e-01 -1.73673948e-01 -5.87763531e-01  1.33225943e-01]\n",
            " [ 5.35295827e-01  5.53333275e-01  5.69251294e-01  5.27644853e-01]\n",
            " [-2.60824029e-01 -1.14301691e+00 -1.51337539e+00 -2.61192967e-01]\n",
            " [ 4.78430123e-01  9.16836886e-01 -3.56360566e-01  1.33225943e-01]\n",
            " [ 8.03701950e-02 -7.79513300e-01 -8.19166497e-01  2.64698913e-01]\n",
            " [-1.47092621e-01 -1.02184904e+00 -2.43898725e+00 -2.61192967e-01]\n",
            " [ 2.50967307e-01  6.86617933e-02 -1.24957601e-01  3.96171883e-01]\n",
            " [ 1.37235899e-01  1.89829664e-01 -1.97618132e+00 -2.61192967e-01]\n",
            " [ 5.35295827e-01  3.10997534e-01 -3.56360566e-01  2.64698913e-01]\n",
            " [-9.02269170e-02 -2.94841818e-01 -3.56360566e-01  1.33225943e-01]\n",
            " [ 3.64698715e-01  1.03800476e+00  1.06445364e-01  2.64698913e-01]\n",
            " [ 4.21564419e-01 -2.94841818e-01 -1.24957601e-01  3.96171883e-01]\n",
            " [ 1.94101603e-01 -5.25060772e-02 -8.19166497e-01 -2.61192967e-01]\n",
            " [ 4.21564419e-01  4.32165405e-01 -1.97618132e+00  3.96171883e-01]\n",
            " [ 8.03701950e-02 -2.94841818e-01 -1.28197243e+00 -1.29719997e-01]\n",
            " [ 5.92161531e-01  6.86617933e-02  3.37848329e-01  7.90590793e-01]\n",
            " [ 1.37235899e-01  3.10997534e-01 -5.87763531e-01  1.33225943e-01]\n",
            " [ 6.49027235e-01  5.53333275e-01 -1.28197243e+00  3.96171883e-01]\n",
            " [ 5.35295827e-01  3.10997534e-01 -5.87763531e-01  1.75297293e-03]\n",
            " [ 3.07833011e-01  6.74501145e-01 -3.56360566e-01  1.33225943e-01]\n",
            " [ 3.64698715e-01  9.16836886e-01 -1.24957601e-01  2.64698913e-01]\n",
            " [ 5.92161531e-01  1.15917263e+00 -5.87763531e-01  2.64698913e-01]\n",
            " [ 7.05892939e-01  1.03800476e+00 -1.24957601e-01  6.59117823e-01]\n",
            " [ 4.21564419e-01  1.89829664e-01 -3.56360566e-01  3.96171883e-01]\n",
            " [-1.47092621e-01 -1.73673948e-01 -1.05056946e+00 -2.61192967e-01]\n",
            " [ 2.35044910e-02 -4.16009689e-01 -1.51337539e+00 -1.29719997e-01]\n",
            " [-3.33612130e-02 -4.16009689e-01 -1.51337539e+00 -2.61192967e-01]\n",
            " [ 8.03701950e-02 -5.25060772e-02 -8.19166497e-01  1.75297293e-03]\n",
            " [ 7.62758643e-01  1.89829664e-01 -8.19166497e-01  5.27644853e-01]\n",
            " [ 4.21564419e-01 -5.37177559e-01 -1.24957601e-01  3.96171883e-01]\n",
            " [ 4.21564419e-01  1.89829664e-01  8.00654259e-01  5.27644853e-01]\n",
            " [ 5.35295827e-01  1.03800476e+00  1.06445364e-01  3.96171883e-01]\n",
            " [ 3.64698715e-01  5.53333275e-01 -1.74477836e+00  1.33225943e-01]\n",
            " [ 1.94101603e-01 -2.94841818e-01 -1.24957601e-01  1.33225943e-01]\n",
            " [ 1.37235899e-01 -4.16009689e-01 -1.28197243e+00  1.33225943e-01]\n",
            " [ 3.64698715e-01 -4.16009689e-01 -1.05056946e+00  1.75297293e-03]\n",
            " [ 4.78430123e-01  3.10997534e-01 -1.24957601e-01  2.64698913e-01]\n",
            " [ 1.37235899e-01 -5.25060772e-02 -1.05056946e+00  1.75297293e-03]\n",
            " [-2.60824029e-01 -1.02184904e+00 -1.74477836e+00 -2.61192967e-01]\n",
            " [ 2.50967307e-01 -2.94841818e-01 -8.19166497e-01  1.33225943e-01]\n",
            " [ 2.50967307e-01 -1.73673948e-01 -1.24957601e-01  1.75297293e-03]\n",
            " [ 2.50967307e-01 -1.73673948e-01 -3.56360566e-01  1.33225943e-01]\n",
            " [ 3.07833011e-01  4.32165405e-01 -3.56360566e-01  1.33225943e-01]\n",
            " [-4.31421141e-01 -9.00681170e-01 -1.28197243e+00 -1.29719997e-01]\n",
            " [ 1.94101603e-01 -1.73673948e-01 -5.87763531e-01  1.33225943e-01]\n",
            " [ 1.27454998e+00  5.53333275e-01  5.69251294e-01  1.71090158e+00]\n",
            " [ 7.62758643e-01 -5.25060772e-02 -8.19166497e-01  9.22063763e-01]\n",
            " [ 1.21768427e+00  1.52267624e+00 -1.24957601e-01  1.18500970e+00]\n",
            " [ 1.04708716e+00  5.53333275e-01 -3.56360566e-01  7.90590793e-01]\n",
            " [ 1.16081857e+00  7.95669016e-01 -1.24957601e-01  1.31648267e+00]\n",
            " [ 1.61574420e+00  2.12851559e+00 -1.24957601e-01  1.18500970e+00]\n",
            " [ 4.21564419e-01 -1.14301691e+00 -1.28197243e+00  6.59117823e-01]\n",
            " [ 1.44514709e+00  1.76501198e+00 -3.56360566e-01  7.90590793e-01]\n",
            " [ 1.16081857e+00  1.03800476e+00 -1.28197243e+00  7.90590793e-01]\n",
            " [ 1.33141568e+00  1.64384411e+00  1.26346019e+00  1.71090158e+00]\n",
            " [ 7.62758643e-01  7.95669016e-01  3.37848329e-01  1.05353673e+00]\n",
            " [ 8.76490051e-01  6.74501145e-01 -8.19166497e-01  9.22063763e-01]\n",
            " [ 9.90221459e-01  1.15917263e+00 -1.24957601e-01  1.18500970e+00]\n",
            " [ 7.05892939e-01 -1.73673948e-01 -1.28197243e+00  1.05353673e+00]\n",
            " [ 7.62758643e-01 -5.25060772e-02 -5.87763531e-01  1.57942861e+00]\n",
            " [ 8.76490051e-01  6.74501145e-01  3.37848329e-01  1.44795564e+00]\n",
            " [ 9.90221459e-01  7.95669016e-01 -1.24957601e-01  7.90590793e-01]\n",
            " [ 1.67260991e+00  2.24968346e+00  1.72626612e+00  1.31648267e+00]\n",
            " [ 1.78634131e+00  2.24968346e+00 -1.05056946e+00  1.44795564e+00]\n",
            " [ 7.05892939e-01  1.89829664e-01 -1.97618132e+00  3.96171883e-01]\n",
            " [ 1.10395287e+00  1.28034050e+00  3.37848329e-01  1.44795564e+00]\n",
            " [ 6.49027235e-01 -2.94841818e-01 -5.87763531e-01  1.05353673e+00]\n",
            " [ 1.67260991e+00  2.24968346e+00 -5.87763531e-01  1.05353673e+00]\n",
            " [ 6.49027235e-01  5.53333275e-01 -8.19166497e-01  7.90590793e-01]\n",
            " [ 1.10395287e+00  1.03800476e+00  5.69251294e-01  1.18500970e+00]\n",
            " [ 1.27454998e+00  1.64384411e+00  3.37848329e-01  7.90590793e-01]\n",
            " [ 5.92161531e-01  4.32165405e-01 -5.87763531e-01  7.90590793e-01]\n",
            " [ 6.49027235e-01  3.10997534e-01 -1.24957601e-01  7.90590793e-01]\n",
            " [ 1.04708716e+00  6.74501145e-01 -5.87763531e-01  1.18500970e+00]\n",
            " [ 1.16081857e+00  1.64384411e+00 -1.24957601e-01  5.27644853e-01]\n",
            " [ 1.33141568e+00  1.88617985e+00 -5.87763531e-01  9.22063763e-01]\n",
            " [ 1.50201279e+00  2.49201920e+00  1.72626612e+00  1.05353673e+00]\n",
            " [ 1.04708716e+00  6.74501145e-01 -5.87763531e-01  1.31648267e+00]\n",
            " [ 7.62758643e-01  5.53333275e-01 -5.87763531e-01  3.96171883e-01]\n",
            " [ 1.04708716e+00  3.10997534e-01 -1.05056946e+00  2.64698913e-01]\n",
            " [ 1.33141568e+00  2.24968346e+00 -1.24957601e-01  1.44795564e+00]\n",
            " [ 1.04708716e+00  5.53333275e-01  8.00654259e-01  1.57942861e+00]\n",
            " [ 9.90221459e-01  6.74501145e-01  1.06445364e-01  7.90590793e-01]\n",
            " [ 5.92161531e-01  1.89829664e-01 -1.24957601e-01  7.90590793e-01]\n",
            " [ 9.33355755e-01  1.28034050e+00  1.06445364e-01  1.18500970e+00]\n",
            " [ 1.04708716e+00  1.03800476e+00  1.06445364e-01  1.57942861e+00]\n",
            " [ 7.62758643e-01  1.28034050e+00  1.06445364e-01  1.44795564e+00]\n",
            " [ 7.62758643e-01 -5.25060772e-02 -8.19166497e-01  9.22063763e-01]\n",
            " [ 1.21768427e+00  1.15917263e+00  3.37848329e-01  1.44795564e+00]\n",
            " [ 1.10395287e+00  1.03800476e+00  5.69251294e-01  1.71090158e+00]\n",
            " [ 8.19624347e-01  1.03800476e+00 -1.24957601e-01  1.44795564e+00]\n",
            " [ 7.05892939e-01  5.53333275e-01 -1.28197243e+00  9.22063763e-01]\n",
            " [ 8.19624347e-01  7.95669016e-01 -1.24957601e-01  1.05353673e+00]\n",
            " [ 9.33355755e-01  4.32165405e-01  8.00654259e-01  1.44795564e+00]\n",
            " [ 7.62758643e-01  6.86617933e-02 -1.24957601e-01  7.90590793e-01]]\n"
          ],
          "name": "stdout"
        }
      ]
    },
    {
      "cell_type": "code",
      "metadata": {
        "id": "TawoxHvnNvBi",
        "colab_type": "code",
        "colab": {
          "base_uri": "https://localhost:8080/",
          "height": 51
        },
        "outputId": "ded8c9f6-f4ba-4842-c427-4740b01421b2"
      },
      "source": [
        "#jadikan training dan test disini menggunakan 80:20, 80 untuk training dan sisanya 20 untuk test\n",
        "xtrain, xtest, ytrain, ytest = train_test_split(normx, y, test_size = 0.2, random_state = 4)\n",
        "print(xtrain.shape, ytrain.shape)\n",
        "print(xtest.shape, ytest.shape)\n",
        "#fungsi .shape adalah untuk melihat dimensi data"
      ],
      "execution_count": 35,
      "outputs": [
        {
          "output_type": "stream",
          "text": [
            "(120, 4) (120,)\n",
            "(30, 4) (30,)\n"
          ],
          "name": "stdout"
        }
      ]
    },
    {
      "cell_type": "code",
      "metadata": {
        "id": "KGcq5IE-ODt2",
        "colab_type": "code",
        "colab": {
          "base_uri": "https://localhost:8080/",
          "height": 85
        },
        "outputId": "e39cd1ba-e2dd-47ad-f7b0-63f586c0631e"
      },
      "source": [
        "#disini klasifikasi menggunakan metode SVM\n",
        "from sklearn import svm\n",
        "klasifikasi = svm.SVC(kernel='linear')\n",
        "klasifikasi.fit(xtrain,ytrain)"
      ],
      "execution_count": 36,
      "outputs": [
        {
          "output_type": "execute_result",
          "data": {
            "text/plain": [
              "SVC(C=1.0, cache_size=200, class_weight=None, coef0=0.0,\n",
              "    decision_function_shape='ovr', degree=3, gamma='auto_deprecated',\n",
              "    kernel='linear', max_iter=-1, probability=False, random_state=None,\n",
              "    shrinking=True, tol=0.001, verbose=False)"
            ]
          },
          "metadata": {
            "tags": []
          },
          "execution_count": 36
        }
      ]
    },
    {
      "cell_type": "code",
      "metadata": {
        "id": "Q1_dEv7aOx1D",
        "colab_type": "code",
        "colab": {
          "base_uri": "https://localhost:8080/",
          "height": 34
        },
        "outputId": "84d23d19-d15f-423e-c60e-01920a42c80c"
      },
      "source": [
        "#proses prediksi klasifikasi\n",
        "ypredict = klasifikasi.predict(xtest)\n",
        "ypredict[0:5]\n",
        "#menampilkan 5 data teratas"
      ],
      "execution_count": 37,
      "outputs": [
        {
          "output_type": "execute_result",
          "data": {
            "text/plain": [
              "array([2, 0, 2, 2, 2])"
            ]
          },
          "metadata": {
            "tags": []
          },
          "execution_count": 37
        }
      ]
    },
    {
      "cell_type": "markdown",
      "metadata": {
        "id": "KvWrsRHXPQWh",
        "colab_type": "text"
      },
      "source": [
        "# Evaluasi hasil"
      ]
    },
    {
      "cell_type": "code",
      "metadata": {
        "id": "qfuWYlAGPEnK",
        "colab_type": "code",
        "colab": {}
      },
      "source": [
        "#membuat confusion matrix\n",
        "import itertools\n",
        "def plot_confusion_matrix(cm, classes,\n",
        "                          normalize=False,\n",
        "                          title='Confusion matrix',\n",
        "                          cmap=plt.cm.Blues):\n",
        "    \"\"\"\n",
        "    This function prints and plots the confusion matrix.\n",
        "    Normalization can be applied by setting `normalize=True`.\n",
        "    \"\"\"\n",
        "    if normalize:\n",
        "        cm = cm.astype('float') / cm.sum(axis=1)[:, np.newaxis]\n",
        "        print(\"Normalized confusion matrix\")\n",
        "    else:\n",
        "        print('Confusion matrix, without normalization')\n",
        "\n",
        "    print(cm)\n",
        "\n",
        "    plt.imshow(cm, interpolation='nearest', cmap=cmap)\n",
        "    plt.title(title)\n",
        "    plt.colorbar()\n",
        "    tick_marks = np.arange(len(classes))\n",
        "    plt.xticks(tick_marks, classes, rotation=45)\n",
        "    plt.yticks(tick_marks, classes)\n",
        "\n",
        "    fmt = '.2f' if normalize else 'd'\n",
        "    thresh = cm.max() / 2.\n",
        "    for i, j in itertools.product(range(cm.shape[0]), range(cm.shape[1])):\n",
        "        plt.text(j, i, format(cm[i, j], fmt),\n",
        "                 horizontalalignment=\"center\",\n",
        "                 color=\"white\" if cm[i, j] > thresh else \"black\")\n",
        "\n",
        "    plt.tight_layout()\n",
        "    plt.ylabel('True label')\n",
        "    plt.xlabel('Predicted label')"
      ],
      "execution_count": 0,
      "outputs": []
    },
    {
      "cell_type": "code",
      "metadata": {
        "id": "3uzKc2cZPshk",
        "colab_type": "code",
        "colab": {
          "base_uri": "https://localhost:8080/",
          "height": 532
        },
        "outputId": "af70ff33-c0b0-4e01-fe9c-c9285885a9e0"
      },
      "source": [
        "from sklearn.metrics import confusion_matrix\n",
        "from sklearn.metrics import classification_report\n",
        "cnf_matrix = confusion_matrix(ytest, ypredict, labels=[0,1])\n",
        "np.set_printoptions(precision=2)\n",
        "\n",
        "print (classification_report(ytest, ypredict))\n",
        "\n",
        "# Plot non-normalized confusion matrix\n",
        "plt.figure()\n",
        "plot_confusion_matrix(cnf_matrix, classes=['Iris-setosa','Iris-virginica'],normalize= False,  title='Confusion matrix')"
      ],
      "execution_count": 40,
      "outputs": [
        {
          "output_type": "stream",
          "text": [
            "              precision    recall  f1-score   support\n",
            "\n",
            "           0       1.00      1.00      1.00        16\n",
            "           1       0.75      0.60      0.67         5\n",
            "           2       0.80      0.89      0.84         9\n",
            "\n",
            "    accuracy                           0.90        30\n",
            "   macro avg       0.85      0.83      0.84        30\n",
            "weighted avg       0.90      0.90      0.90        30\n",
            "\n",
            "Confusion matrix, without normalization\n",
            "[[16  0]\n",
            " [ 0  3]]\n"
          ],
          "name": "stdout"
        },
        {
          "output_type": "display_data",
          "data": {
            "image/png": "[encoded data removed]",
            "text/plain": [
              "<Figure size 432x288 with 2 Axes>"
            ]
          },
          "metadata": {
            "tags": []
          }
        }
      ]
    },
    {
      "cell_type": "code",
      "metadata": {
        "id": "Hdgh6GuLQgcD",
        "colab_type": "code",
        "colab": {
          "base_uri": "https://localhost:8080/",
          "height": 34
        },
        "outputId": "723fdeb6-413f-4d65-863d-909022cfafb8"
      },
      "source": [
        "from sklearn.metrics import f1_score\n",
        "f1_score(ytest, ypredict, average='weighted')\n",
        "#f1 skor untuk melihat hasil akurasi klasifikasi "
      ],
      "execution_count": 41,
      "outputs": [
        {
          "output_type": "execute_result",
          "data": {
            "text/plain": [
              "0.8970760233918128"
            ]
          },
          "metadata": {
            "tags": []
          },
          "execution_count": 41
        }
      ]
    },
    {
      "cell_type": "code",
      "metadata": {
        "id": "EwudFma8Td6i",
        "colab_type": "code",
        "colab": {
          "base_uri": "https://localhost:8080/",
          "height": 88
        },
        "outputId": "51059035-3404-45d6-8ff3-c8ecd76b6022"
      },
      "source": [
        "from sklearn.metrics import jaccard_similarity_score\n",
        "jaccard_similarity_score(ytest, ypredict)\n",
        "#dan ini untuk melihat skor kemiripan"
      ],
      "execution_count": 42,
      "outputs": [
        {
          "output_type": "stream",
          "text": [
            "/usr/local/lib/python3.6/dist-packages/sklearn/metrics/classification.py:635: DeprecationWarning: jaccard_similarity_score has been deprecated and replaced with jaccard_score. It will be removed in version 0.23. This implementation has surprising behavior for binary and multiclass classification tasks.\n",
            "  'and multiclass classification tasks.', DeprecationWarning)\n"
          ],
          "name": "stderr"
        },
        {
          "output_type": "execute_result",
          "data": {
            "text/plain": [
              "0.9"
            ]
          },
          "metadata": {
            "tags": []
          },
          "execution_count": 42
        }
      ]
    },
    {
      "cell_type": "code",
      "metadata": {
        "id": "56MHvHsSTn-0",
        "colab_type": "code",
        "colab": {}
      },
      "source": [
        ""
      ],
      "execution_count": 0,
      "outputs": []
    }
  ]
}